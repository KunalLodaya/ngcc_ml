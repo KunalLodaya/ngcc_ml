{
 "cells": [
  {
   "cell_type": "markdown",
   "metadata": {},
   "source": [
    "What the paper may still need is a solid explanation of what generally makes a site active\n",
    "How do we say what the most typical active sites look like?\n",
    "Chemical intuition will come from thinking about properties of the graphs, so it may still be valuable to discuss the success of the classifier restricted to graph-based features to justify the use of QM\n",
    "We can also frame this within a discussion of what specific properties we typically see in the graph around the active sites\n",
    "RDKit fingerprints do address this approach, but problems with kekulization make them kind of annoying and they don't know how to abstract the important details from things that just happen to be common in our distribution\n",
    "\n",
    "Which questions about the graph would be worth answering?\n",
    "Could have a plots that show active vs inactive for various graph-based features\n",
    "Ortho, meta, para, further than 3\n",
    "RingEdge: ring_edge, embedded_ring, neither (sp3 or non-ring)\n",
    "\n",
    "Confusion matrices would be fine for binary features, but since these options are mutually exclusive there should be a better way to represent this. "
   ]
  },
  {
   "cell_type": "code",
   "execution_count": 23,
   "metadata": {},
   "outputs": [],
   "source": [
    "import pandas as pd\n",
    "import numpy as np\n",
    "\n",
    "import matplotlib.pyplot as plt\n",
    "from matplotlib import rc\n",
    "from matplotlib.ticker import MaxNLocator\n",
    "plt.rcParams.update({'font.size': 20})\n",
    "\n",
    "# Preprocessing\n",
    "from sklearn.model_selection import train_test_split\n",
    "from sklearn.model_selection import GroupShuffleSplit\n",
    "from sklearn.preprocessing import OneHotEncoder\n",
    "from sklearn.preprocessing import StandardScaler\n",
    "from sklearn.preprocessing import PolynomialFeatures\n",
    "\n",
    "# Classifiers\n",
    "from sklearn.linear_model import LogisticRegression\n",
    "from sklearn.ensemble import RandomForestClassifier\n",
    "from sklearn.neural_network import MLPClassifier\n",
    "from sklearn.svm import SVC\n",
    "from sklearn.gaussian_process import GaussianProcessClassifier\n",
    "\n",
    "# Data Analysis\n",
    "from sklearn.model_selection import cross_val_score\n",
    "from sklearn.metrics import confusion_matrix"
   ]
  },
  {
   "cell_type": "code",
   "execution_count": 4,
   "metadata": {},
   "outputs": [],
   "source": [
    "from ngcc_ml import data_tools"
   ]
  },
  {
   "cell_type": "code",
   "execution_count": 5,
   "metadata": {},
   "outputs": [],
   "source": [
    "df = pd.read_csv(\"/home/nricke/work/ngcc_ml/DidItBindv5.csv\", index_col=0)"
   ]
  },
  {
   "cell_type": "code",
   "execution_count": 6,
   "metadata": {
    "scrolled": true
   },
   "outputs": [
    {
     "name": "stdout",
     "output_type": "stream",
     "text": [
      "Index(['Atom Number', 'Catalyst Name', 'CatalystO2File', 'Element',\n",
      "       'SpinDensity', 'ChElPGPositiveCharge', 'ChElPGNeutralCharge',\n",
      "       'ChargeDifference', 'Doesitbind', 'BondLength', 'IonizedFreeEnergy',\n",
      "       'IonizationEnergy', 'BindingEnergy', 'NeutralFreeEnergy', 'OrthoOrPara',\n",
      "       'Meta', 'FartherThanPara', 'DistanceToN', 'AverageBondLength',\n",
      "       'BondLengthRange', 'NumberOfHydrogens', 'AromaticSize', 'IsInRingSize6',\n",
      "       'IsInRingSize5', 'NeighborSpinDensity', 'NeighborChElPGCharge',\n",
      "       'NeighborChargeDifference', 'AromaticExtent', 'RingEdge',\n",
      "       'NumNitrogens', 'NumHeteroatoms', 'ring_nitrogens',\n",
      "       'atom_plane_deviation', 'ring_plane_deviation', 'charge'],\n",
      "      dtype='object')\n"
     ]
    }
   ],
   "source": [
    "print(df.columns)"
   ]
  },
  {
   "cell_type": "code",
   "execution_count": 7,
   "metadata": {},
   "outputs": [],
   "source": [
    "df = df[df[\"Catalyst Name\"] != \"sf7x0\"]"
   ]
  },
  {
   "cell_type": "code",
   "execution_count": 8,
   "metadata": {},
   "outputs": [],
   "source": [
    "df_active = df[df[\"Doesitbind\"] == 1]"
   ]
  },
  {
   "cell_type": "code",
   "execution_count": 9,
   "metadata": {},
   "outputs": [],
   "source": [
    "df_inactive = df[df[\"Doesitbind\"] == 0]"
   ]
  },
  {
   "cell_type": "code",
   "execution_count": 10,
   "metadata": {},
   "outputs": [],
   "source": [
    "RingEdge_inactive = dict(df_inactive[\"RingEdge\"].value_counts())\n",
    "RingEdge_active = dict(df_active[\"RingEdge\"].value_counts())"
   ]
  },
  {
   "cell_type": "code",
   "execution_count": 11,
   "metadata": {},
   "outputs": [],
   "source": [
    "# need % values to plot\n",
    "rep = {}\n",
    "antirep = {}\n",
    "for key in RingEdge_active.keys():\n",
    "    rep[key] = 100*RingEdge_active[key] / (RingEdge_active[key] + RingEdge_inactive[key])\n",
    "    antirep[key] = 100 - rep[key]"
   ]
  },
  {
   "cell_type": "code",
   "execution_count": 12,
   "metadata": {},
   "outputs": [
    {
     "data": {
      "text/plain": [
       "{2: 25.29212212589521, 1: 6.602768903088392, 0: 1.092896174863388}"
      ]
     },
     "execution_count": 12,
     "metadata": {},
     "output_type": "execute_result"
    }
   ],
   "source": [
    "rep"
   ]
  },
  {
   "cell_type": "code",
   "execution_count": 13,
   "metadata": {},
   "outputs": [
    {
     "data": {
      "text/plain": [
       "1    417\n",
       "3    238\n",
       "2     71\n",
       "5      9\n",
       "4      3\n",
       "7      1\n",
       "Name: DistanceToN, dtype: int64"
      ]
     },
     "execution_count": 13,
     "metadata": {},
     "output_type": "execute_result"
    }
   ],
   "source": [
    "df_active[\"DistanceToN\"].value_counts()"
   ]
  },
  {
   "cell_type": "code",
   "execution_count": 14,
   "metadata": {},
   "outputs": [
    {
     "name": "stdout",
     "output_type": "stream",
     "text": [
      "{2: 1139, 3: 657, 1: 620, 4: 986}\n",
      "986\n"
     ]
    }
   ],
   "source": [
    "dtn_inact = dict(df_inactive[df_inactive[\"DistanceToN\"] <= 3][\"DistanceToN\"].value_counts())\n",
    "gt3_inact = df_inactive[df_inactive[\"DistanceToN\"] > 3][\"DistanceToN\"].value_counts().sum()\n",
    "dtn_inact[4] = gt3_inact\n",
    "print(dtn_inact)\n",
    "print(gt3_inact)"
   ]
  },
  {
   "cell_type": "code",
   "execution_count": 15,
   "metadata": {},
   "outputs": [
    {
     "name": "stdout",
     "output_type": "stream",
     "text": [
      "{1: 417, 3: 238, 2: 71, 4: 13}\n"
     ]
    }
   ],
   "source": [
    "dtn_act = dict(df_active[df_active[\"DistanceToN\"] <= 3][\"DistanceToN\"].value_counts())\n",
    "gt3_act = df_active[df_active[\"DistanceToN\"] > 3][\"DistanceToN\"].value_counts().sum()\n",
    "dtn_act[4] = gt3_act\n",
    "print(dtn_act)"
   ]
  },
  {
   "cell_type": "code",
   "execution_count": 21,
   "metadata": {},
   "outputs": [],
   "source": [
    "def bar_grid(d_active, d_inactive, figname, xtick_input_labels=None, xlabel=\"\"):\n",
    "    rep = {}\n",
    "    antirep = {}\n",
    "    for key in d_active.keys():\n",
    "        rep[key] = 100*d_active[key] / (d_active[key] + d_inactive[key])\n",
    "        antirep[key] = 100 - rep[key]\n",
    "\n",
    "    fig = plt.figure(figsize=(7,10))\n",
    "    ax = plt.subplot(111)\n",
    "    plt.bar(rep.keys(), list(rep.values()), label=\"Active\", color=\"red\")\n",
    "    plt.bar(rep.keys(), list(antirep.values()), bottom=list(rep.values()), label=\"Inactive\", color=\"blue\")\n",
    "    ax.set_yticks([0,20,40,60,80,100])\n",
    "    ax.set_yticklabels([str(i)+\"%\" for i in [0,20,40,60,80,100]])\n",
    "    plt.legend(bbox_to_anchor=(1.05,1), loc=\"upper left\")\n",
    "    plt.ylim([0,100])\n",
    "    if xtick_input_labels == None:\n",
    "        ax.xaxis.set_major_locator(MaxNLocator(integer=True))\n",
    "    else:\n",
    "        ax.set_xticks(np.arange(1, len(xtick_input_labels)+1))\n",
    "        ax.set_xticklabels(xtick_input_labels)\n",
    "    #plt.show()\n",
    "    plt.xlabel(xlabel)\n",
    "    plt.savefig(figname, bbox_inches=\"tight\")"
   ]
  },
  {
   "cell_type": "code",
   "execution_count": 27,
   "metadata": {},
   "outputs": [
    {
     "data": {
      "image/png": "[encoded data removed]",
      "text/plain": [
       "<Figure size 504x720 with 1 Axes>"
      ]
     },
     "metadata": {
      "needs_background": "light"
     },
     "output_type": "display_data"
    }
   ],
   "source": [
    "bar_grid(dtn_act, dtn_inact, \"DistanceToN_stackbar.png\", xtick_input_labels=[\"1\",\"2\",\"3\",\">3\"], xlabel=\"Distance to Nearest Nitrogen\")"
   ]
  },
  {
   "cell_type": "code",
   "execution_count": 26,
   "metadata": {},
   "outputs": [
    {
     "data": {
      "image/png": "[encoded data removed]",
      "text/plain": [
       "<Figure size 504x720 with 1 Axes>"
      ]
     },
     "metadata": {
      "needs_background": "light"
     },
     "output_type": "display_data"
    }
   ],
   "source": [
    "bar_grid(RingEdge_active, RingEdge_inactive, \"RingEdge_stackbar.png\", xlabel=\"Active Site Type\")"
   ]
  },
  {
   "cell_type": "code",
   "execution_count": 19,
   "metadata": {},
   "outputs": [
    {
     "data": {
      "text/plain": [
       "dict_values([25.29212212589521, 6.602768903088392, 1.092896174863388])"
      ]
     },
     "execution_count": 19,
     "metadata": {},
     "output_type": "execute_result"
    }
   ],
   "source": [
    "rep.values()"
   ]
  },
  {
   "cell_type": "code",
   "execution_count": 94,
   "metadata": {},
   "outputs": [],
   "source": [
    "from itertools import product"
   ]
  },
  {
   "cell_type": "code",
   "execution_count": 95,
   "metadata": {},
   "outputs": [],
   "source": [
    "abra = [[256, 512], [128, 256], [64, 128], [32], [16], [8]]"
   ]
  },
  {
   "cell_type": "code",
   "execution_count": 98,
   "metadata": {},
   "outputs": [
    {
     "name": "stdout",
     "output_type": "stream",
     "text": [
      "(256, 128, 64, 32, 16, 8)\n",
      "(256, 128, 128, 32, 16, 8)\n",
      "(256, 256, 64, 32, 16, 8)\n",
      "(256, 256, 128, 32, 16, 8)\n",
      "(512, 128, 64, 32, 16, 8)\n",
      "(512, 128, 128, 32, 16, 8)\n",
      "(512, 256, 64, 32, 16, 8)\n",
      "(512, 256, 128, 32, 16, 8)\n"
     ]
    },
    {
     "data": {
      "text/plain": [
       "[None, None, None, None, None, None, None, None]"
      ]
     },
     "execution_count": 98,
     "metadata": {},
     "output_type": "execute_result"
    }
   ],
   "source": [
    "[print(l) for l in product(*abra)]"
   ]
  },
  {
   "cell_type": "code",
   "execution_count": null,
   "metadata": {},
   "outputs": [],
   "source": []
  }
 ],
 "metadata": {
  "kernelspec": {
   "display_name": "Python 3",
   "language": "python",
   "name": "python3"
  },
  "language_info": {
   "codemirror_mode": {
    "name": "ipython",
    "version": 3
   },
   "file_extension": ".py",
   "mimetype": "text/x-python",
   "name": "python",
   "nbconvert_exporter": "python",
   "pygments_lexer": "ipython3",
   "version": "3.7.2"
  }
 },
 "nbformat": 4,
 "nbformat_minor": 2
}
