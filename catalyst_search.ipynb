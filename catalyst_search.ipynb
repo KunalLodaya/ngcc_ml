{
 "cells": [
  {
   "cell_type": "markdown",
   "metadata": {},
   "source": [
    "Notebook purpose: evaluate how efficiently we could search for catalysts using the ML model under various constraints.\n",
    "\n",
    "The most conspicuous constraint is to find a set number of active catalysts without any unnecessary DFT calculations\n",
    "What is unnecessary? --> 100% of O2 binding calculations are to actual binding sites\n",
    "So we can accept a model with lower accuracy as long as it has no false positives --> only a small penalty for false negatives\n",
    "\n",
    "Let's say we're only willing to run 5 DFT O2 binding calculations, and we want basically all of them to show that we found active sites. We'd probably want each of these to be per catalyst, to show that we've found 5 unique active catalysts. Assuming we're working with 10% of the data as a \"test\" set, that's about 27 calalysts, so we want to pick the ones that the model is most confident have at least 1 site that binds O2.\n",
    "\n",
    "Really, this is a question of whether the active sites for a set of catalysts are most likely to actually be binding\n",
    "Can order by log-loss and take that as an estimate of uncertainty (is that a fair expectation?)\n"
   ]
  },
  {
   "cell_type": "code",
   "execution_count": 1,
   "metadata": {},
   "outputs": [],
   "source": [
    "import pandas as pd\n",
    "import numpy as np\n",
    "\n",
    "# Preprocessing\n",
    "from sklearn.model_selection import GroupShuffleSplit\n",
    "\n",
    "from sklearn.ensemble import RandomForestClassifier\n",
    "\n",
    "from sklearn.metrics import confusion_matrix"
   ]
  },
  {
   "cell_type": "code",
   "execution_count": 2,
   "metadata": {},
   "outputs": [],
   "source": [
    "from ngcc_ml import data_tools\n",
    "from ngcc_ml import skl_tools"
   ]
  },
  {
   "cell_type": "code",
   "execution_count": 3,
   "metadata": {},
   "outputs": [],
   "source": [
    "df = pd.read_csv(\"/home/nricke/work/ngcc_ml/DidItBindv5.csv\")\n",
    "df[\"Doesitbind\"] = df[\"Doesitbind\"].astype(\"int\")"
   ]
  },
  {
   "cell_type": "code",
   "execution_count": 4,
   "metadata": {},
   "outputs": [
    {
     "data": {
      "text/plain": [
       "Index(['Unnamed: 0', 'Atom Number', 'Catalyst Name', 'CatalystO2File',\n",
       "       'Element', 'SpinDensity', 'ChElPGPositiveCharge', 'ChElPGNeutralCharge',\n",
       "       'ChargeDifference', 'Doesitbind', 'BondLength', 'IonizedFreeEnergy',\n",
       "       'IonizationEnergy', 'BindingEnergy', 'NeutralFreeEnergy', 'OrthoOrPara',\n",
       "       'Meta', 'FartherThanPara', 'DistanceToN', 'AverageBondLength',\n",
       "       'BondLengthRange', 'NumberOfHydrogens', 'AromaticSize', 'IsInRingSize6',\n",
       "       'IsInRingSize5', 'NeighborSpinDensity', 'NeighborChElPGCharge',\n",
       "       'NeighborChargeDifference', 'AromaticExtent', 'RingEdge',\n",
       "       'NumNitrogens', 'NumHeteroatoms', 'ring_nitrogens',\n",
       "       'atom_plane_deviation', 'ring_plane_deviation', 'charge'],\n",
       "      dtype='object')"
      ]
     },
     "execution_count": 4,
     "metadata": {},
     "output_type": "execute_result"
    }
   ],
   "source": [
    "df.columns"
   ]
  },
  {
   "cell_type": "code",
   "execution_count": 5,
   "metadata": {},
   "outputs": [
    {
     "data": {
      "text/plain": [
       "(4141, 36)"
      ]
     },
     "execution_count": 5,
     "metadata": {},
     "output_type": "execute_result"
    }
   ],
   "source": [
    "df.shape"
   ]
  },
  {
   "cell_type": "code",
   "execution_count": 6,
   "metadata": {},
   "outputs": [
    {
     "name": "stdout",
     "output_type": "stream",
     "text": [
      "267\n",
      "250\n"
     ]
    }
   ],
   "source": [
    "print(len(df[\"Catalyst Name\"].unique()))\n",
    "print(len(df[df[\"Doesitbind\"] == 1][\"Catalyst Name\"].unique()))"
   ]
  },
  {
   "cell_type": "code",
   "execution_count": 7,
   "metadata": {},
   "outputs": [
    {
     "name": "stderr",
     "output_type": "stream",
     "text": [
      "/home/nricke/local/opt/miniconda/envs/ds/lib/python3.7/site-packages/sklearn/preprocessing/data.py:625: DataConversionWarning: Data with input dtype int64, float64 were all converted to float64 by StandardScaler.\n",
      "  return self.partial_fit(X, y)\n",
      "/home/nricke/local/opt/miniconda/envs/ds/lib/python3.7/site-packages/sklearn/base.py:462: DataConversionWarning: Data with input dtype int64, float64 were all converted to float64 by StandardScaler.\n",
      "  return self.fit(X, **fit_params).transform(X)\n"
     ]
    }
   ],
   "source": [
    "feature_cols = {\"SpinDensity\", \"ChElPGNeutralCharge\", \"ChargeDifference\", \"IonizationEnergy\", \"OrthoOrPara\", \"Meta\", \"FartherThanPara\", \"DistanceToN\", \"AverageBondLength\",  \"NumberOfHydrogens\", \"IsInRingSize6\", \"IsInRingSize5\", \"NeighborSpinDensity\", 'NeighborChElPGCharge', 'NeighborChargeDifference', \"AromaticExtent\", \"RingEdge\", \"NumNitrogens\", \"NumHeteroatoms\", \"charge\", \"atom_plane_deviation\", \"ring_plane_deviation\", \"ring_nitrogens\"}\n",
    "not_scaled_cols = {\"OrthoOrPara\", \"Meta\", \"FartherThanPara\", \"NumberOfHydrogens\", \"IsInRingSize6\", \"IsInRingSize5\", \"RingEdge\", \"NumNitrogens\", \"NumHeteroatoms\", \"ring_nitrogens\", \"charge\"}\n",
    "df_scale = data_tools.process_data(df, scaledCols=list(feature_cols - not_scaled_cols))\n",
    "train_inds, test_inds = next(GroupShuffleSplit(test_size=0.10, n_splits=2, random_state = 6).split(df, groups=df['Catalyst Name']))\n",
    "train = df.iloc[train_inds]\n",
    "test = df.iloc[test_inds]\n",
    "X_train_group = train[feature_cols]\n",
    "y_train_group = train[\"Doesitbind\"]\n",
    "X_test_group = test[feature_cols]\n",
    "y_test_group = test[\"Doesitbind\"]"
   ]
  },
  {
   "cell_type": "code",
   "execution_count": null,
   "metadata": {},
   "outputs": [],
   "source": [
    "rfc = RandomForestClassifier(n_estimators=1000, max_depth=100, class_weight={0:1, 1:10})\n",
    "rfc.fit(X_train_group, y_train_group)\n",
    "print('Accuracy of RFC on test set: {:.3f}'.format(rfc.score(X_test_group, y_test_group)))\n",
    "print('Accuracy of RFC on training set: {:.3f}'.format(rfc.score(X_train_group, y_train_group)))\n",
    "y_pred_group = rfc.predict(X_test_group)\n",
    "print(confusion_matrix(y_test_group, y_pred_group))"
   ]
  },
  {
   "cell_type": "code",
   "execution_count": null,
   "metadata": {},
   "outputs": [],
   "source": [
    "p = rfc.predict_proba(X_test_group)\n",
    "test = test.assign(predict_proba=p[:,1], prediction=y_pred_group)\n",
    "test_sort = test.sort_values(by=\"predict_proba\", ascending=False)[[\"Catalyst Name\", \"Doesitbind\", \"prediction\", \"predict_proba\"]]\n",
    "first_false = list(test_sort[\"Doesitbind\"]).index(0)\n",
    "print(len(test_sort.head(first_false)[\"Catalyst Name\"].unique()))"
   ]
  },
  {
   "cell_type": "code",
   "execution_count": null,
   "metadata": {},
   "outputs": [],
   "source": [
    "test"
   ]
  },
  {
   "cell_type": "code",
   "execution_count": null,
   "metadata": {},
   "outputs": [],
   "source": [
    "all_scores, best_catalysts, total_sites, first_false_list, false_proba_list = [], [], [], [], []\n",
    "test_dfs = []\n",
    "group_col = \"Catalyst Name\"\n",
    "target_col = \"Doesitbind\"\n",
    "model = RandomForestClassifier(n_estimators=1000, max_depth=100, class_weight={0:1, 1:10})\n",
    "split_groups = GroupShuffleSplit(test_size=0.10, n_splits=10).split(df, groups=df[group_col])\n",
    "for train_inds, test_inds in split_groups:\n",
    "    train = df.iloc[train_inds]\n",
    "    test = df.iloc[test_inds]\n",
    "    X_train_group = train[feature_cols]\n",
    "    X_test_group = test[feature_cols]\n",
    "    y_test_group = test[target_col]\n",
    "    y_train_group = train[target_col]\n",
    "    model.fit(X_train_group, y_train_group)\n",
    "    score = model.score(X_test_group, y_test_group)\n",
    "    all_scores.append(score)\n",
    "    print('Accuracy of RFC on test set: {:.2f}'.format(score))\n",
    "    print('Accuracy of RFC on training set: {:.2f}'.format(model.score(X_train_group, y_train_group)))\n",
    "    y_pred_group = model.predict(X_test_group)\n",
    "    print(confusion_matrix(y_test_group, y_pred_group))\n",
    "    p = model.predict_proba(X_test_group)\n",
    "    test = test.assign(predict_proba=p[:,1], prediction=y_pred_group)\n",
    "    test_dfs.append(test)\n",
    "    test_sort = test.sort_values(by=\"predict_proba\", ascending=False)[[\"Catalyst Name\", \"Doesitbind\", \"prediction\", \"predict_proba\"]]\n",
    "    first_false = list(test_sort[\"Doesitbind\"]).index(0)\n",
    "    first_false_list.append(first_false)\n",
    "    best_catalysts.append(len(test_sort.head(first_false)[\"Catalyst Name\"].unique()))\n",
    "    total_sites.append(test_sort.shape[0]) # first false is 0 indexed. If the first false is the 10th place, the value is 9, so this index is the same as the number of catalysts before the first false\n",
    "    false_proba_list.append(test_sort.iloc[first_false][\"predict_proba\"])\n",
    "print(\"mean:\", np.mean(all_scores))\n",
    "print(\"mean:\", np.mean(best_catalysts))\n",
    "print(\"mean:\", np.mean(total_sites))"
   ]
  },
  {
   "cell_type": "code",
   "execution_count": null,
   "metadata": {},
   "outputs": [],
   "source": [
    "all_scores, best_catalysts, total_sites, first_false_list, false_proba_list = [], [], [], [], []\n",
    "test_dfs = []\n",
    "group_col = \"Catalyst Name\"\n",
    "target_col = \"Doesitbind\"\n",
    "model = RandomForestClassifier(n_estimators=1000, max_depth=100, class_weight={0:1, 1:10})\n",
    "split_groups = GroupShuffleSplit(test_size=0.10, n_splits=10).split(df, groups=df[group_col])\n",
    "for train_inds, test_inds in split_groups:\n",
    "    train = df.iloc[train_inds]\n",
    "    test = df.iloc[test_inds]\n",
    "    X_train_group = train[feature_cols]\n",
    "    X_test_group = test[feature_cols]\n",
    "    y_test_group = test[target_col]\n",
    "    y_train_group = train[target_col]\n",
    "    model.fit(X_train_group, y_train_group)\n",
    "    score = model.score(X_test_group, y_test_group)\n",
    "    all_scores.append(score)\n",
    "    print('Accuracy of RFC on test set: {:.2f}'.format(score))\n",
    "    print('Accuracy of RFC on training set: {:.2f}'.format(model.score(X_train_group, y_train_group)))\n",
    "    y_pred_group = model.predict(X_test_group)\n",
    "    print(confusion_matrix(y_test_group, y_pred_group))\n",
    "    p = model.predict_proba(X_test_group)\n",
    "    test = test.assign(predict_proba=p[:,1], prediction=y_pred_group)\n",
    "    test_dfs.append(test)\n",
    "    test_sort = test.sort_values(by=\"predict_proba\", ascending=False)[[\"Catalyst Name\", \"Doesitbind\", \"prediction\", \"predict_proba\"]]\n",
    "    first_false = list(test_sort[\"Doesitbind\"]).index(0)\n",
    "    first_false_list.append(first_false)\n",
    "    best_catalysts.append(len(test_sort.head(first_false)[\"Catalyst Name\"].unique()))\n",
    "    total_sites.append(test_sort.shape[0]) # first false is 0 indexed. If the first false is the 10th place, the value is 9, so this index is the same as the number of catalysts before the first false\n",
    "    false_proba_list.append(test_sort.iloc[first_false][\"predict_proba\"])\n",
    "print(\"mean:\", np.mean(all_scores))\n",
    "print(\"mean:\", np.mean(best_catalysts))\n",
    "print(\"mean:\", np.mean(total_sites))"
   ]
  },
  {
   "cell_type": "code",
   "execution_count": null,
   "metadata": {},
   "outputs": [],
   "source": [
    "df_test_all = pd.concat(test_dfs)"
   ]
  },
  {
   "cell_type": "code",
   "execution_count": null,
   "metadata": {},
   "outputs": [],
   "source": [
    "for measure_list in [best_catalysts, false_proba_list, first_false_list]:\n",
    "    print(np.mean(measure_list), np.min(measure_list), np.max(measure_list))"
   ]
  },
  {
   "cell_type": "markdown",
   "metadata": {},
   "source": [
    "Now that we've seen this is relatively successful in this framework, the next step is to do a head-to-head search comparison.\n",
    "For a set of C catalysts, search until a subset A are found that are active, with the goal of checking O2 binding for as few as possible.\n",
    "This is really quite similar to above, but we just want to keep track of slightly different metrics. For each group, we now want to instead ask "
   ]
  },
  {
   "cell_type": "code",
   "execution_count": null,
   "metadata": {},
   "outputs": [],
   "source": [
    "def search_for_active_catalysts(df_catalysts, order_col, feature_cols, target_col=\"Doesitbind\", find_num=10):\n",
    "    \"\"\"\n",
    "    df_catalysts (pandas dataframe): catalysts to search\n",
    "    order_col (str): column name to sort catalysts by. Expected for predict_proba or random values\n",
    "    \"\"\"\n",
    "    df_sort = df_catalysts.sort_values(by=order_col, ascending=False)\n",
    "    found_list = []\n",
    "    count = 0\n",
    "    for index, row in df_sort.iterrows():\n",
    "        if row[\"Catalyst Name\"] not in found_list:\n",
    "            if row[target_col] == 1:\n",
    "                found_list.append(row[\"Catalyst Name\"])\n",
    "            count += 1\n",
    "            assert len(found_list) <= find_num\n",
    "            if len(found_list) == find_num:\n",
    "                break\n",
    "    return found_list, count"
   ]
  },
  {
   "cell_type": "code",
   "execution_count": null,
   "metadata": {},
   "outputs": [],
   "source": [
    "df_ts = df.copy()\n",
    "df_ts"
   ]
  },
  {
   "cell_type": "code",
   "execution_count": null,
   "metadata": {},
   "outputs": [],
   "source": [
    "df_ts = df_ts.assign(random_ordering=np.random.rand(df_ts.shape[0]))"
   ]
  },
  {
   "cell_type": "code",
   "execution_count": null,
   "metadata": {},
   "outputs": [],
   "source": [
    "df_ts.iloc[0].random_ordering"
   ]
  },
  {
   "cell_type": "code",
   "execution_count": null,
   "metadata": {},
   "outputs": [],
   "source": [
    "l, c = search_for_active_catalysts(df_ts, order_col=\"random_ordering\", feature_cols=feature_cols, find_num=100)\n",
    "print(len(l))\n",
    "print(c)"
   ]
  },
  {
   "cell_type": "code",
   "execution_count": null,
   "metadata": {},
   "outputs": [],
   "source": [
    "df_test_all = df_test_all.drop_duplicates()"
   ]
  },
  {
   "cell_type": "code",
   "execution_count": null,
   "metadata": {},
   "outputs": [],
   "source": [
    "df_test_all = df_test_all.assign(random_ordering=np.random.rand(df_test_all.shape[0]))"
   ]
  },
  {
   "cell_type": "code",
   "execution_count": null,
   "metadata": {},
   "outputs": [],
   "source": [
    "l_O2, c_O2 = search_for_active_catalysts(df_test_all, order_col=\"random_ordering\", feature_cols=feature_cols, find_num=100)\n",
    "print(len(l_O2), c_O2)\n",
    "l_t, c_t = search_for_active_catalysts(df_test_all, order_col=\"predict_proba\", feature_cols=feature_cols, find_num=100)\n",
    "print(len(l_t), c_t)"
   ]
  },
  {
   "cell_type": "code",
   "execution_count": null,
   "metadata": {},
   "outputs": [],
   "source": []
  },
  {
   "cell_type": "code",
   "execution_count": null,
   "metadata": {},
   "outputs": [],
   "source": []
  },
  {
   "cell_type": "code",
   "execution_count": null,
   "metadata": {},
   "outputs": [],
   "source": []
  },
  {
   "cell_type": "code",
   "execution_count": null,
   "metadata": {},
   "outputs": [],
   "source": []
  },
  {
   "cell_type": "code",
   "execution_count": null,
   "metadata": {},
   "outputs": [],
   "source": []
  },
  {
   "cell_type": "code",
   "execution_count": null,
   "metadata": {},
   "outputs": [],
   "source": []
  },
  {
   "cell_type": "code",
   "execution_count": null,
   "metadata": {},
   "outputs": [],
   "source": []
  },
  {
   "cell_type": "code",
   "execution_count": null,
   "metadata": {},
   "outputs": [],
   "source": []
  },
  {
   "cell_type": "code",
   "execution_count": null,
   "metadata": {},
   "outputs": [],
   "source": []
  },
  {
   "cell_type": "code",
   "execution_count": null,
   "metadata": {},
   "outputs": [],
   "source": []
  },
  {
   "cell_type": "code",
   "execution_count": null,
   "metadata": {},
   "outputs": [],
   "source": []
  },
  {
   "cell_type": "code",
   "execution_count": null,
   "metadata": {},
   "outputs": [],
   "source": []
  },
  {
   "cell_type": "code",
   "execution_count": null,
   "metadata": {},
   "outputs": [],
   "source": []
  },
  {
   "cell_type": "code",
   "execution_count": null,
   "metadata": {},
   "outputs": [],
   "source": []
  },
  {
   "cell_type": "code",
   "execution_count": null,
   "metadata": {},
   "outputs": [],
   "source": []
  }
 ],
 "metadata": {
  "kernelspec": {
   "display_name": "Python 3",
   "language": "python",
   "name": "python3"
  },
  "language_info": {
   "codemirror_mode": {
    "name": "ipython",
    "version": 3
   },
   "file_extension": ".py",
   "mimetype": "text/x-python",
   "name": "python",
   "nbconvert_exporter": "python",
   "pygments_lexer": "ipython3",
   "version": "3.7.2"
  }
 },
 "nbformat": 4,
 "nbformat_minor": 2
}
